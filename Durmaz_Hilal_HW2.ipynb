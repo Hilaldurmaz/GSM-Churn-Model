{
 "cells": [
  {
   "cell_type": "markdown",
   "metadata": {},
   "source": [
    "# <font color=\"blue\">DA514 - Homework Assignment 2</font>\n",
    "\n",
    "Assigned: February 24th, 2021<br>\n",
    "Due: **March 7th, 2021 23:55pm**\n",
    "\n",
    "Please use this notebook for your answers. Add your charts/graphs/code where necessary. You can select the \"Markdown\" mode from the drop-down menu above and type your answer/reasoning there. It would be extra nice if you can use equations. The notebooks we provided have numerous examples. you can also check the following link for the Markdown formula: http://csrgxtu.github.io/2015/03/20/Writing-Mathematic-Fomulars-in-Markdown/\n",
    "\n",
    "### Requirements (very important):\n",
    "1. Please use **this notebook** to answer the questions. If you work on Colab, you can download your notebook and use it for submission.\n",
    "\n",
    "\n",
    "2. Please name your notebook as **`lastName_firstName_HW2.ipynb`** and upload it to SuCourse+ on time.\n",
    "\n",
    "\n",
    "3. Don't send your work in HTML format. Because we must be able to run your code if need be. Don't send it in the **`.py`** format either. They won't be processed.  \n",
    "\n",
    "\n",
    "4. Please work alone."
   ]
  },
  {
   "cell_type": "markdown",
   "metadata": {},
   "source": [
    "# Q1. Cross Validation and the mean model performance (30 pts)\n",
    "Cross-validation gives a measure of out-of-sample accuracy by averaging over several random partitions of test samples. It is often used for parameter tuning by doing cross-validation for several possible values of a parameter and choosing the parameter value that gives the lowest cross-validation average error. So you can use CV to help choose between alternatives.\n",
    "\n",
    "The point is, you can use one validation step only for one goal: either for parameter optimization, or for estimating generalization performance. When you use cross validation for parameter tuning, the validation samples in fact become part of your model. So you need another independent (test) sample to correctly assess the performance of the final model. When we have limited data, we may not have that independent data set to measure the generalization performance of the model.\n",
    "\n",
    "When only a limited data is available, we use a k-fold CV and report the mean performance across all folds. With a single random partitioning of data, the result could be noisy meaning that each time the CV procedure is run, a different split of the dataset into k-folds can be implemented, and in turn, the distribution of performance scores can be different, resulting in a different mean estimate of model performance.\n",
    "\n",
    "One alternative might be to use repeated cross validations. This way, we can have a more reliable estimate for the mean performance of the model as the repeated CV estimator outperforms the non-repeated one by reducing the variability of the estimator.\n",
    "\n",
    "We would like to measure the mean performance of the default Logistic Regression and kNN models on the Iris data set. \n",
    "\n",
    "**1.** Fit the default **Logistic Regression** and **kNN** models by training on the whole data using a single 5-fold CV procedure and report the mean performance and the standard error. \n",
    "\n",
    "**2.** Now employ a **repeated** 5-fold CV procedure (say 50-100 repetitions) for both models to measure the overall mean performance and the standard error.\n",
    "\n",
    "What differences do you see? You may want to plot the variation in the mean performance and the standard error as a function of the number of repetitions and comment. "
   ]
  },
  {
   "cell_type": "code",
   "execution_count": 1,
   "metadata": {},
   "outputs": [],
   "source": [
    "# Answer here\n",
    "import numpy as np\n",
    "import pandas as pd\n",
    "import seaborn as sns\n",
    "import scipy.stats as stats\n",
    "from sklearn import preprocessing\n",
    "from sklearn import model_selection\n",
    "from sklearn.metrics import accuracy_score\n",
    "from sklearn.metrics import roc_curve, auc\n",
    "from sklearn.metrics import confusion_matrix\n",
    "from sklearn.preprocessing import StandardScaler\n",
    "from sklearn.model_selection import GridSearchCV\n",
    "from sklearn.metrics import classification_report\n",
    "from sklearn.neighbors import KNeighborsClassifier\n",
    "from sklearn.linear_model import LogisticRegression\n",
    "from sklearn.model_selection import cross_val_score\n",
    "from sklearn.model_selection import StratifiedKFold\n",
    "from sklearn.model_selection import train_test_split\n",
    "import matplotlib.pyplot as plt\n",
    "sns.set()\n",
    "\n",
    "import warnings\n",
    "warnings.filterwarnings(\"ignore\") # Don't want to see the warnings in the notebook"
   ]
  },
  {
   "cell_type": "code",
   "execution_count": 2,
   "metadata": {},
   "outputs": [
    {
     "data": {
      "text/html": [
       "<div>\n",
       "<style scoped>\n",
       "    .dataframe tbody tr th:only-of-type {\n",
       "        vertical-align: middle;\n",
       "    }\n",
       "\n",
       "    .dataframe tbody tr th {\n",
       "        vertical-align: top;\n",
       "    }\n",
       "\n",
       "    .dataframe thead th {\n",
       "        text-align: right;\n",
       "    }\n",
       "</style>\n",
       "<table border=\"1\" class=\"dataframe\">\n",
       "  <thead>\n",
       "    <tr style=\"text-align: right;\">\n",
       "      <th></th>\n",
       "      <th>5.1</th>\n",
       "      <th>3.5</th>\n",
       "      <th>1.4</th>\n",
       "      <th>0.2</th>\n",
       "      <th>Iris-setosa</th>\n",
       "    </tr>\n",
       "  </thead>\n",
       "  <tbody>\n",
       "    <tr>\n",
       "      <td>0</td>\n",
       "      <td>4.9</td>\n",
       "      <td>3.0</td>\n",
       "      <td>1.4</td>\n",
       "      <td>0.2</td>\n",
       "      <td>Iris-setosa</td>\n",
       "    </tr>\n",
       "    <tr>\n",
       "      <td>1</td>\n",
       "      <td>4.7</td>\n",
       "      <td>3.2</td>\n",
       "      <td>1.3</td>\n",
       "      <td>0.2</td>\n",
       "      <td>Iris-setosa</td>\n",
       "    </tr>\n",
       "    <tr>\n",
       "      <td>2</td>\n",
       "      <td>4.6</td>\n",
       "      <td>3.1</td>\n",
       "      <td>1.5</td>\n",
       "      <td>0.2</td>\n",
       "      <td>Iris-setosa</td>\n",
       "    </tr>\n",
       "    <tr>\n",
       "      <td>3</td>\n",
       "      <td>5.0</td>\n",
       "      <td>3.6</td>\n",
       "      <td>1.4</td>\n",
       "      <td>0.2</td>\n",
       "      <td>Iris-setosa</td>\n",
       "    </tr>\n",
       "    <tr>\n",
       "      <td>4</td>\n",
       "      <td>5.4</td>\n",
       "      <td>3.9</td>\n",
       "      <td>1.7</td>\n",
       "      <td>0.4</td>\n",
       "      <td>Iris-setosa</td>\n",
       "    </tr>\n",
       "  </tbody>\n",
       "</table>\n",
       "</div>"
      ],
      "text/plain": [
       "   5.1  3.5  1.4  0.2  Iris-setosa\n",
       "0  4.9  3.0  1.4  0.2  Iris-setosa\n",
       "1  4.7  3.2  1.3  0.2  Iris-setosa\n",
       "2  4.6  3.1  1.5  0.2  Iris-setosa\n",
       "3  5.0  3.6  1.4  0.2  Iris-setosa\n",
       "4  5.4  3.9  1.7  0.4  Iris-setosa"
      ]
     },
     "execution_count": 2,
     "metadata": {},
     "output_type": "execute_result"
    }
   ],
   "source": [
    "# load the iris data into a DataFrame from its URL\n",
    "url = 'http://archive.ics.uci.edu/ml/machine-learning-databases/iris/iris.data' \n",
    "df = pd.read_csv(url)\n",
    "df.head()"
   ]
  },
  {
   "cell_type": "code",
   "execution_count": 3,
   "metadata": {},
   "outputs": [
    {
     "data": {
      "text/html": [
       "<div>\n",
       "<style scoped>\n",
       "    .dataframe tbody tr th:only-of-type {\n",
       "        vertical-align: middle;\n",
       "    }\n",
       "\n",
       "    .dataframe tbody tr th {\n",
       "        vertical-align: top;\n",
       "    }\n",
       "\n",
       "    .dataframe thead th {\n",
       "        text-align: right;\n",
       "    }\n",
       "</style>\n",
       "<table border=\"1\" class=\"dataframe\">\n",
       "  <thead>\n",
       "    <tr style=\"text-align: right;\">\n",
       "      <th></th>\n",
       "      <th>sepal_length</th>\n",
       "      <th>sepal_width</th>\n",
       "      <th>petal_length</th>\n",
       "      <th>petal_width</th>\n",
       "      <th>species</th>\n",
       "    </tr>\n",
       "  </thead>\n",
       "  <tbody>\n",
       "    <tr>\n",
       "      <td>0</td>\n",
       "      <td>5.1</td>\n",
       "      <td>3.5</td>\n",
       "      <td>1.4</td>\n",
       "      <td>0.2</td>\n",
       "      <td>Iris-setosa</td>\n",
       "    </tr>\n",
       "    <tr>\n",
       "      <td>1</td>\n",
       "      <td>4.9</td>\n",
       "      <td>3.0</td>\n",
       "      <td>1.4</td>\n",
       "      <td>0.2</td>\n",
       "      <td>Iris-setosa</td>\n",
       "    </tr>\n",
       "    <tr>\n",
       "      <td>2</td>\n",
       "      <td>4.7</td>\n",
       "      <td>3.2</td>\n",
       "      <td>1.3</td>\n",
       "      <td>0.2</td>\n",
       "      <td>Iris-setosa</td>\n",
       "    </tr>\n",
       "    <tr>\n",
       "      <td>3</td>\n",
       "      <td>4.6</td>\n",
       "      <td>3.1</td>\n",
       "      <td>1.5</td>\n",
       "      <td>0.2</td>\n",
       "      <td>Iris-setosa</td>\n",
       "    </tr>\n",
       "    <tr>\n",
       "      <td>4</td>\n",
       "      <td>5.0</td>\n",
       "      <td>3.6</td>\n",
       "      <td>1.4</td>\n",
       "      <td>0.2</td>\n",
       "      <td>Iris-setosa</td>\n",
       "    </tr>\n",
       "  </tbody>\n",
       "</table>\n",
       "</div>"
      ],
      "text/plain": [
       "   sepal_length  sepal_width  petal_length  petal_width      species\n",
       "0           5.1          3.5           1.4          0.2  Iris-setosa\n",
       "1           4.9          3.0           1.4          0.2  Iris-setosa\n",
       "2           4.7          3.2           1.3          0.2  Iris-setosa\n",
       "3           4.6          3.1           1.5          0.2  Iris-setosa\n",
       "4           5.0          3.6           1.4          0.2  Iris-setosa"
      ]
     },
     "execution_count": 3,
     "metadata": {},
     "output_type": "execute_result"
    }
   ],
   "source": [
    "# Specify the column names:\n",
    "col_names = ['sepal_length', 'sepal_width', 'petal_length', 'petal_width', 'species']\n",
    "df = pd.read_csv(url, header=None, names=col_names)\n",
    "df.head()"
   ]
  },
  {
   "cell_type": "code",
   "execution_count": 6,
   "metadata": {},
   "outputs": [],
   "source": [
    "seed=50\n",
    "y = df.species\n",
    "columns_used = ['sepal_length', 'sepal_width', 'petal_length', 'petal_width'] #use all attributes\n",
    "X = df[columns_used]\n",
    "X_train, X_test, y_train, y_test = train_test_split(X, y, test_size=0.25, random_state=seed)"
   ]
  },
  {
   "cell_type": "markdown",
   "metadata": {},
   "source": [
    "### 1. Fit the default Logistic Regression and kNN models"
   ]
  },
  {
   "cell_type": "code",
   "execution_count": 7,
   "metadata": {},
   "outputs": [
    {
     "name": "stdout",
     "output_type": "stream",
     "text": [
      "Test accuracy : 0.9736842105263158\n"
     ]
    }
   ],
   "source": [
    "#I use logistic regression model with default hyperparameters\n",
    "#all features have same unit therefore I do not need scaling to X_test,X_train\n",
    "Clf = LogisticRegression()\n",
    "Clf.fit(X_train, y_train)\n",
    "predictions = Clf.predict(X_test)\n",
    "print( 'Test accuracy :', (accuracy_score(y_test, Clf.predict(X_test))))"
   ]
  },
  {
   "cell_type": "code",
   "execution_count": 8,
   "metadata": {},
   "outputs": [],
   "source": [
    "#I used 5 fold cross validation and I learned accuracy scores of each fold \n",
    "scores = cross_val_score(Clf, X_test, y_test, cv=5, scoring='accuracy')"
   ]
  },
  {
   "cell_type": "code",
   "execution_count": 9,
   "metadata": {},
   "outputs": [
    {
     "name": "stdout",
     "output_type": "stream",
     "text": [
      " MeanCV-score :  0.9214285714285714\n",
      " Std Error :  0.03224191086654962\n"
     ]
    }
   ],
   "source": [
    "from scipy import stats\n",
    "\n",
    "print(' MeanCV-score : ', scores.mean()) \n",
    "print(' Std Error : ', stats.sem(scores)) "
   ]
  },
  {
   "cell_type": "markdown",
   "metadata": {},
   "source": [
    "I calculated mean of cross validation scores and standard error for only 5 fold with logistic regression model. However I do not know ***consistency of model performance***"
   ]
  },
  {
   "cell_type": "markdown",
   "metadata": {},
   "source": [
    "### KNN"
   ]
  },
  {
   "cell_type": "code",
   "execution_count": 361,
   "metadata": {},
   "outputs": [
    {
     "name": "stdout",
     "output_type": "stream",
     "text": [
      "Test accuracy : 1.0\n"
     ]
    }
   ],
   "source": [
    "#I use KNN model with default hyperparameters\n",
    "Clf_KNN = KNeighborsClassifier(n_neighbors = 5) \n",
    "Clf_KNN.fit(X_train, y_train)\n",
    "predictions = Clf_KNN.predict(X_test)\n",
    "print( 'Test accuracy :', (accuracy_score(y_test, Clf_KNN.predict(X_test))))"
   ]
  },
  {
   "cell_type": "code",
   "execution_count": 362,
   "metadata": {},
   "outputs": [],
   "source": [
    "#I used 5 fold cross validation and I learned accuracy scores of each fold \n",
    "scores_Knn = cross_val_score(Clf_KNN, X_test, y_test, cv=5, scoring='accuracy')"
   ]
  },
  {
   "cell_type": "code",
   "execution_count": 363,
   "metadata": {},
   "outputs": [
    {
     "name": "stdout",
     "output_type": "stream",
     "text": [
      " MeanCV-score :  0.975\n",
      " Std Error :  0.024999999999999998\n"
     ]
    }
   ],
   "source": [
    "print(' MeanCV-score : ', scores_Knn.mean()) \n",
    "print(' Std Error : ', stats.sem(scores_Knn)) "
   ]
  },
  {
   "cell_type": "markdown",
   "metadata": {},
   "source": [
    "I calculated mean of cross validation scores and standard error for only 5 fold with KNN model. However I do not know ***consistency of model performance.*** I reached same results for both these models. "
   ]
  },
  {
   "cell_type": "markdown",
   "metadata": {},
   "source": [
    "### 2.  Repeated 5-fold CV"
   ]
  },
  {
   "cell_type": "markdown",
   "metadata": {},
   "source": [
    "I employed a repeated 5-fold CV procedure with ***50 repetitions for logistic regression models*** to measure the overall mean performance and the standard error.\n"
   ]
  },
  {
   "cell_type": "code",
   "execution_count": 364,
   "metadata": {},
   "outputs": [
    {
     "name": "stdout",
     "output_type": "stream",
     "text": [
      " MeanCV-score :  0.9606428571428571\n",
      " Std Error :  0.004608803131621104\n"
     ]
    }
   ],
   "source": [
    "from sklearn.model_selection import StratifiedKFold, RepeatedKFold\n",
    "Clf2 = LogisticRegression()\n",
    "Clf2.fit(X_train, y_train)\n",
    "predictions = Clf2.predict(X_test)\n",
    "kfold = RepeatedKFold(n_splits=5, n_repeats=50, random_state=seed)\n",
    "scores_reph = cross_val_score(Clf2, X_test, y_test, cv = kfold)\n",
    "print(' MeanCV-score : ', scores_reph.mean()) \n",
    "print(' Std Error : ', stats.sem(scores_reph))"
   ]
  },
  {
   "cell_type": "code",
   "execution_count": 365,
   "metadata": {},
   "outputs": [
    {
     "name": "stdout",
     "output_type": "stream",
     "text": [
      " MeanCV-score :  0.9697142857142858\n",
      " Std Error :  0.003797287433567125\n"
     ]
    }
   ],
   "source": [
    "from sklearn.model_selection import StratifiedKFold, RepeatedKFold\n",
    "Clf2_KNN = KNeighborsClassifier(n_neighbors = 5)\n",
    "Clf2_KNN.fit(X_train, y_train)\n",
    "predictions = Clf2_KNN.predict(X_test)\n",
    "kfold = RepeatedKFold(n_splits=5, n_repeats=50, random_state=seed)\n",
    "scores_reph2 = cross_val_score(Clf2_KNN, X_test, y_test, cv = kfold)\n",
    "print(' MeanCV-score : ', scores_reph2.mean()) \n",
    "print(' Std Error : ', stats.sem(scores_reph2)) "
   ]
  },
  {
   "cell_type": "markdown",
   "metadata": {},
   "source": [
    "I see a ***significant difference*** in mean and standart error  between 5-fold cross validation and repeated 5-fold cross validation. This shows that the model which I built is not constant. mean accuracy changes in every repetion. I drew a plot to see the variation in the mean performance"
   ]
  },
  {
   "cell_type": "code",
   "execution_count": 366,
   "metadata": {},
   "outputs": [],
   "source": [
    "#cross_val_score returns an array which has score by cross-validation. \n",
    "#I seperated to 5 folds and append to new list by this way I can calculate easily mean and standart deviation for 5 fold cross validation\n",
    "new_list_log = []\n",
    "for i in range(0,250,5): \n",
    "    new_list_log.append([scores_reph[i:i+5]])\n",
    "\n",
    "new_list_knn = []\n",
    "for i in range(0,250,5): \n",
    "    new_list_knn.append([scores_reph2[i:i+5]])\n"
   ]
  },
  {
   "cell_type": "code",
   "execution_count": 367,
   "metadata": {},
   "outputs": [],
   "source": [
    "#I calculated mean and standart error. I added to a list these values\n",
    "mean_list_log=[]\n",
    "for i in range(len(new_list_log)):\n",
    "    mean_list_log.append(np.array(new_list_log[i]).mean())"
   ]
  },
  {
   "cell_type": "code",
   "execution_count": 368,
   "metadata": {},
   "outputs": [],
   "source": [
    "sem_list_log=[]\n",
    "for i in range(len(new_list_log)):\n",
    "    sem_list_log.append(stats.sem(np.array(new_list_log[i]), axis=None, ddof=0))"
   ]
  },
  {
   "cell_type": "code",
   "execution_count": 369,
   "metadata": {},
   "outputs": [],
   "source": [
    "mean_list_knn=[]\n",
    "for i in range(len(new_list_knn)):\n",
    "    mean_list_knn.append(np.array(new_list_knn[i]).mean())\n",
    "\n",
    "sem_list_knn=[]\n",
    "for i in range(len(new_list_knn)):\n",
    "    sem_list_knn.append(stats.sem(np.array(new_list_knn[i]), axis=None, ddof=0))    \n"
   ]
  },
  {
   "cell_type": "code",
   "execution_count": 370,
   "metadata": {},
   "outputs": [
    {
     "data": {
      "image/png": "[encoded data removed]",
      "text/plain": [
       "<Figure size 1440x720 with 1 Axes>"
      ]
     },
     "metadata": {},
     "output_type": "display_data"
    }
   ],
   "source": [
    "import scipy.stats as stats \n",
    "from matplotlib import pyplot as plt\n",
    "plt.figure(figsize=(20, 10))\n",
    "mean_acc_log = np.array(mean_list_log)\n",
    "\n",
    "plt.plot(mean_acc_log,label='Logistic Regression') \n",
    "\n",
    "mean_acc_knn = np.array(mean_list_knn)\n",
    "plt.plot(mean_list_knn,label='KNN') \n",
    "plt.xlabel(\"Repetation\")\n",
    "plt.ylabel(\"Accuracy\")\n",
    "plt.legend()\n",
    "plt.show()"
   ]
  },
  {
   "cell_type": "code",
   "execution_count": 371,
   "metadata": {},
   "outputs": [
    {
     "data": {
      "image/png": "[encoded data removed]",
      "text/plain": [
       "<Figure size 1440x720 with 1 Axes>"
      ]
     },
     "metadata": {},
     "output_type": "display_data"
    }
   ],
   "source": [
    "import scipy.stats as stats \n",
    "from matplotlib import pyplot as plt\n",
    "plt.figure(figsize=(20, 10))\n",
    "\n",
    "sem_log = np.array(sem_list_log)\n",
    "\n",
    "plt.plot(sem_log,label='Logistic Regression') \n",
    "\n",
    "sem_knn = np.array(sem_list_knn)\n",
    "plt.plot(sem_knn,label='KNN') \n",
    "plt.xlabel(\"Repetation\")\n",
    "plt.ylabel(\"Standard Error\")\n",
    "plt.legend()\n",
    "plt.show()"
   ]
  },
  {
   "cell_type": "markdown",
   "metadata": {},
   "source": [
    " Accuracy and standard error performance become more ***stable*** in both models by increasing cross validation repetation because of increase randomness"
   ]
  },
  {
   "cell_type": "markdown",
   "metadata": {},
   "source": [
    "##### Hyperparameter Tuning\n",
    "First of all, I used default parameters of model and I want to see performans accuracy and standart error if there is tuning hyperparameter of models. Does any change?\n"
   ]
  },
  {
   "cell_type": "code",
   "execution_count": 372,
   "metadata": {},
   "outputs": [
    {
     "name": "stdout",
     "output_type": "stream",
     "text": [
      "Fitting 250 folds for each of 126 candidates, totalling 31500 fits\n"
     ]
    },
    {
     "name": "stderr",
     "output_type": "stream",
     "text": [
      "[Parallel(n_jobs=-1)]: Using backend LokyBackend with 4 concurrent workers.\n",
      "[Parallel(n_jobs=-1)]: Done  46 tasks      | elapsed:   19.1s\n",
      "[Parallel(n_jobs=-1)]: Done 2878 tasks      | elapsed:   30.0s\n",
      "[Parallel(n_jobs=-1)]: Done 7878 tasks      | elapsed:   50.6s\n",
      "[Parallel(n_jobs=-1)]: Done 14878 tasks      | elapsed:  1.4min\n",
      "[Parallel(n_jobs=-1)]: Done 23878 tasks      | elapsed:  2.2min\n",
      "[Parallel(n_jobs=-1)]: Done 31500 out of 31500 | elapsed:  2.9min finished\n"
     ]
    },
    {
     "name": "stdout",
     "output_type": "stream",
     "text": [
      "Best grid parameters: {'classifier__C': 0.9500000000000003, 'classifier__penalty': 'l2', 'classifier__solver': 'newton-cg'} \n",
      "\n",
      "Classifier used     : Pipeline(memory=None,\n",
      "         steps=[('scaler',\n",
      "                 StandardScaler(copy=True, with_mean=True, with_std=True)),\n",
      "                ('classifier',\n",
      "                 LogisticRegression(C=0.9500000000000003, class_weight=None,\n",
      "                                    dual=False, fit_intercept=True,\n",
      "                                    intercept_scaling=1, l1_ratio=None,\n",
      "                                    max_iter=100, multi_class='auto',\n",
      "                                    n_jobs=None, penalty='l2', random_state=42,\n",
      "                                    solver='newton-cg', tol=0.0001, verbose=0,\n",
      "                                    warm_start=False))],\n",
      "         verbose=False) \n",
      "\n",
      "Grid accuracy on test data: 1.0\n"
     ]
    }
   ],
   "source": [
    "from sklearn.model_selection import StratifiedKFold, RepeatedKFold\n",
    "pipeline = Pipeline(steps=[('scaler', StandardScaler()),\n",
    "                           ('classifier',   LogisticRegression(random_state=seed))])\n",
    "\n",
    "params = [{'classifier__C'      : np.arange(0.1, 1, 0.05), \n",
    "           'classifier__penalty': ['l1'], \n",
    "           'classifier__solver' : ['liblinear', 'saga']},\n",
    "          \n",
    "          {'classifier__C'      : np.arange(0.1, 1, 0.05), \n",
    "           'classifier__penalty': ['l2'], \n",
    "           'classifier__solver' : ['liblinear', 'newton-cg', 'lbfgs', 'sag', 'saga']}\n",
    "         ]\n",
    "kfold = RepeatedKFold(n_splits=5, n_repeats=50, random_state=seed)\n",
    "\n",
    "grid_repeated = GridSearchCV(pipeline, param_grid=params, cv=kfold, verbose=1, n_jobs=-1)\n",
    "\n",
    "grid_repeated.fit(X_train, y_train)\n",
    "print('Best grid parameters:', grid_repeated.best_params_, '\\n')\n",
    "print('Classifier used     :',grid_repeated.best_estimator_,'\\n')\n",
    "print('Grid accuracy on test data:', grid_repeated.score(X_test, y_test))"
   ]
  },
  {
   "cell_type": "code",
   "execution_count": 373,
   "metadata": {},
   "outputs": [
    {
     "name": "stdout",
     "output_type": "stream",
     "text": [
      "Best model: {'clf__n_neighbors': 8}\n",
      "Training accuracy: 0.9464285714285714\n",
      "Test accuracy    : 1.0\n"
     ]
    }
   ],
   "source": [
    "from sklearn.neighbors import KNeighborsClassifier\n",
    "pipe = Pipeline([ ('scale', StandardScaler()),\n",
    "                 ('clf'   , KNeighborsClassifier())])\n",
    "\n",
    "params = [{'clf__n_neighbors': np.arange(2, 40, 2)}]\n",
    "\n",
    "\n",
    "grid = GridSearchCV(pipe, param_grid=params, cv=5)\n",
    "grid.fit(X_train, y_train)\n",
    "print('Best model:', grid.best_params_)\n",
    "print('Training accuracy:', grid.score(X_train, y_train))\n",
    "print('Test accuracy    :', grid.score(X_test, y_test))"
   ]
  },
  {
   "cell_type": "code",
   "execution_count": 374,
   "metadata": {},
   "outputs": [
    {
     "name": "stdout",
     "output_type": "stream",
     "text": [
      "Best model: {'clf__n_neighbors': 4}\n",
      "Training accuracy: 0.9553571428571429\n",
      "Test accuracy    : 0.9736842105263158\n"
     ]
    }
   ],
   "source": [
    "pipe = Pipeline([ ('scale', StandardScaler()),\n",
    "                 ('clf'   , KNeighborsClassifier())])\n",
    "\n",
    "params = [{'clf__n_neighbors': np.arange(2, 40, 2)}]\n",
    "\n",
    "kfold = RepeatedKFold(n_splits=5, n_repeats=100, random_state=seed)\n",
    "grid = GridSearchCV(pipe, param_grid=params, cv=kfold)\n",
    "grid.fit(X_train, y_train)\n",
    "print('Best model:', grid.best_params_)\n",
    "print('Training accuracy:', grid.score(X_train, y_train))\n",
    "print('Test accuracy    :', grid.score(X_test, y_test))"
   ]
  },
  {
   "cell_type": "markdown",
   "metadata": {},
   "source": [
    "# Q2. Are my test and train sets from the same population? (30 pts)\n",
    "For answering this question, you are expected to use the data set we used for the solution of the Telco churn problem we solved in class.\n",
    "\n",
    "Given the train (**gsmchurn_train.csv**) and test (**gsmchurn_test.csv**) data sets, you're expected to work on a classification problem for predicting churn. Having received not successful results despite all your efforts to tune the model for this specific job, you suspect that the train and test sets may not be coming from the same population. One way to check for the similarity between train and test sets could be to design a binary classification problem to shed some light on this issue.    \n",
    "\n",
    "Imagine you mark each set (both train and test) with a special flag added as a column to these data sets indicating that they are either train or test sets. You can then combine these data sets into a single data frame and apply a classification model of your choice. If you are able to accurately classify whether the sample comes from the test or training set then the predictor variables have different underlying distributions. If not, you can safely assume that there is reasonable similarity between the train and test sets. One way to check this could be building the model and then finding the value of the probability that a randomly chosen positive example has a higher score (rank) than a randomly chosen negative example. Correct interpretation of this probability will help you come to a conclusion. "
   ]
  },
  {
   "cell_type": "code",
   "execution_count": 375,
   "metadata": {},
   "outputs": [],
   "source": [
    "# Answer here\n",
    "df_train = pd.read_csv('gsmchurn_train.csv') \n",
    "df_test = pd.read_csv('gsmchurn_test.csv') \n",
    "\n",
    "is_train = [1,0]\n",
    "df_train['train_column'] =  is_train[0]\n",
    "df_test['train_column'] = is_train[1]"
   ]
  },
  {
   "cell_type": "code",
   "execution_count": 376,
   "metadata": {},
   "outputs": [],
   "source": [
    "comb_df = df_train.append(df_test)\n",
    "df2 = comb_df.copy()"
   ]
  },
  {
   "cell_type": "code",
   "execution_count": 377,
   "metadata": {},
   "outputs": [],
   "source": [
    "from sklearn import model_selection\n",
    "seed = 42 # for reproducibility\n",
    "train, test = model_selection.train_test_split(df2, test_size=0.30, random_state=seed, stratify=df2['train_column'])"
   ]
  },
  {
   "cell_type": "code",
   "execution_count": 378,
   "metadata": {},
   "outputs": [
    {
     "name": "stdout",
     "output_type": "stream",
     "text": [
      "X_train and y_train: (2333, 14) (2333,)\n",
      "X_test and y_test  : (1000, 14) (1000,)\n"
     ]
    }
   ],
   "source": [
    "y_train = train['train_column']\n",
    "X_train = train.drop('train_column', axis=1)\n",
    "y_test = test['train_column']\n",
    "X_test = test.drop('train_column', axis=1)\n",
    "print('X_train and y_train:', X_train.shape, y_train.shape)\n",
    "print('X_test and y_test  :', X_test.shape, y_test.shape)"
   ]
  },
  {
   "cell_type": "code",
   "execution_count": 379,
   "metadata": {},
   "outputs": [
    {
     "name": "stdout",
     "output_type": "stream",
     "text": [
      "Fitting 5 folds for each of 266 candidates, totalling 1330 fits\n"
     ]
    },
    {
     "name": "stderr",
     "output_type": "stream",
     "text": [
      "[Parallel(n_jobs=-1)]: Using backend LokyBackend with 4 concurrent workers.\n",
      "[Parallel(n_jobs=-1)]: Done 280 tasks      | elapsed:    2.5s\n"
     ]
    },
    {
     "name": "stdout",
     "output_type": "stream",
     "text": [
      "Best grid parameters: Pipeline(memory=None,\n",
      "         steps=[('scaler',\n",
      "                 StandardScaler(copy=True, with_mean=True, with_std=True)),\n",
      "                ('clf',\n",
      "                 LogisticRegression(C=0.1, class_weight=None, dual=False,\n",
      "                                    fit_intercept=True, intercept_scaling=1,\n",
      "                                    l1_ratio=None, max_iter=100,\n",
      "                                    multi_class='auto', n_jobs=None,\n",
      "                                    penalty='l1', random_state=42,\n",
      "                                    solver='liblinear', tol=0.0001, verbose=0,\n",
      "                                    warm_start=False))],\n",
      "         verbose=False) \n",
      "\n",
      "Training accuracy: 0.6999571367338191\n",
      "Test accuracy    : 0.7\n"
     ]
    },
    {
     "name": "stderr",
     "output_type": "stream",
     "text": [
      "[Parallel(n_jobs=-1)]: Done 1330 out of 1330 | elapsed:   12.5s finished\n"
     ]
    }
   ],
   "source": [
    "from sklearn.linear_model import LogisticRegression\n",
    "from sklearn.model_selection import StratifiedKFold\n",
    "from sklearn.pipeline import make_pipeline, Pipeline\n",
    "from sklearn.preprocessing import StandardScaler\n",
    "from sklearn.model_selection import GridSearchCV\n",
    "\n",
    "pipe = Pipeline([  ('scaler',  StandardScaler()),\n",
    "                 ('clf',     LogisticRegression(random_state=seed))])\n",
    "\n",
    "params = [{'clf__C'           : np.arange(0.1, 2.0, 0.05), \n",
    "           'clf__penalty'     : ['l1'], \n",
    "           'clf__solver'      : ['liblinear', 'saga']},\n",
    "          \n",
    "          {'clf__C'           : np.arange(0.1, 2.0, 0.05), \n",
    "           'clf__penalty'     : ['l2'], \n",
    "           'clf__solver'      : ['liblinear', 'newton-cg', 'lbfgs', 'sag', 'saga']}]\n",
    "\n",
    "skf = StratifiedKFold(n_splits=5, random_state=seed, shuffle=True)\n",
    "grid = GridSearchCV(pipe, param_grid=params, cv=skf, n_jobs=-1 , verbose=1)\n",
    "\n",
    "grid.fit(X_train, y_train)\n",
    "\n",
    "print('Best grid parameters:', grid.best_estimator_,'\\n')\n",
    "test_score = grid.score(X_test, y_test)\n",
    "print('Training accuracy:', grid.score(X_train, y_train))\n",
    "print('Test accuracy    :', test_score)"
   ]
  },
  {
   "cell_type": "markdown",
   "metadata": {},
   "source": [
    "Values of train and test accuracy are very low therefore I looked confusion matrix. In confusion matrix says that this model cannot accurately train and test data. Model predicts as 1(is_train) to all data.This means that train and test data are selected from same population therefore these data is indistinguishable"
   ]
  },
  {
   "cell_type": "code",
   "execution_count": 380,
   "metadata": {},
   "outputs": [
    {
     "data": {
      "image/png": "[encoded data removed]",
      "text/plain": [
       "<Figure size 432x288 with 2 Axes>"
      ]
     },
     "metadata": {},
     "output_type": "display_data"
    },
    {
     "name": "stdout",
     "output_type": "stream",
     "text": [
      "\n",
      "               precision    recall  f1-score   support\n",
      "\n",
      "           0       0.00      0.00      0.00       300\n",
      "           1       0.70      1.00      0.82       700\n",
      "\n",
      "    accuracy                           0.70      1000\n",
      "   macro avg       0.35      0.50      0.41      1000\n",
      "weighted avg       0.49      0.70      0.58      1000\n",
      "\n"
     ]
    }
   ],
   "source": [
    "def draw_cm(actual, predicted):\n",
    "    cm = confusion_matrix(actual, predicted, [1,0])\n",
    "    sns.heatmap(cm, annot=True,  fmt='.0f', xticklabels = [\"train:1\", \"Not train:0\"] , \n",
    "                yticklabels = [\"train:1\", \"Not train:0\"] )\n",
    "    plt.ylabel('ACTUAL')\n",
    "    plt.xlabel('PREDICTED')\n",
    "    plt.show()\n",
    "draw_cm( y_test, grid.predict(X_test) )\n",
    "print('\\n',classification_report(y_test, grid.predict(X_test)))"
   ]
  },
  {
   "cell_type": "code",
   "execution_count": null,
   "metadata": {},
   "outputs": [],
   "source": [
    "#I used different metric as f(beta:2) becasue FN is more costly but there is no change, train and test data is still indistinguishable"
   ]
  },
  {
   "cell_type": "code",
   "execution_count": 381,
   "metadata": {},
   "outputs": [
    {
     "name": "stdout",
     "output_type": "stream",
     "text": [
      "Fitting 5 folds for each of 266 candidates, totalling 1330 fits\n"
     ]
    },
    {
     "name": "stderr",
     "output_type": "stream",
     "text": [
      "[Parallel(n_jobs=-1)]: Using backend LokyBackend with 4 concurrent workers.\n",
      "[Parallel(n_jobs=-1)]: Done 212 tasks      | elapsed:    2.5s\n",
      "[Parallel(n_jobs=-1)]: Done 1112 tasks      | elapsed:   10.6s\n"
     ]
    },
    {
     "name": "stdout",
     "output_type": "stream",
     "text": [
      "Best grid parameters: Pipeline(memory=None,\n",
      "         steps=[('scaler',\n",
      "                 StandardScaler(copy=True, with_mean=True, with_std=True)),\n",
      "                ('clf',\n",
      "                 LogisticRegression(C=0.1, class_weight=None, dual=False,\n",
      "                                    fit_intercept=True, intercept_scaling=1,\n",
      "                                    l1_ratio=None, max_iter=100,\n",
      "                                    multi_class='auto', n_jobs=None,\n",
      "                                    penalty='l1', random_state=42,\n",
      "                                    solver='liblinear', tol=0.0001, verbose=0,\n",
      "                                    warm_start=False))],\n",
      "         verbose=False) \n",
      "\n",
      "Training accuracy: 0.9210377890580936\n",
      "Test accuracy    : 0.9210526315789475\n"
     ]
    },
    {
     "name": "stderr",
     "output_type": "stream",
     "text": [
      "[Parallel(n_jobs=-1)]: Done 1330 out of 1330 | elapsed:   12.5s finished\n"
     ]
    }
   ],
   "source": [
    "from sklearn.metrics import fbeta_score, make_scorer\n",
    "pipeline = Pipeline([  ('scaler',  StandardScaler()),\n",
    "                 ('clf',     LogisticRegression(random_state=seed))])\n",
    "\n",
    "params = [{'clf__C'           : np.arange(0.1, 2.0, 0.05), \n",
    "           'clf__penalty'     : ['l1'], \n",
    "           'clf__solver'      : ['liblinear', 'saga']},\n",
    "          \n",
    "          {'clf__C'           : np.arange(0.1, 2.0, 0.05), \n",
    "           'clf__penalty'     : ['l2'], \n",
    "           'clf__solver'      : ['liblinear', 'newton-cg', 'lbfgs', 'sag', 'saga']}]\n",
    "\n",
    "skf = StratifiedKFold(n_splits=5, random_state=seed, shuffle=True)\n",
    "gridcs = GridSearchCV(pipeline, param_grid = params, cv = skf, \n",
    "                      scoring=make_scorer(fbeta_score, beta=2), verbose = 1, n_jobs = -1)\n",
    "\n",
    "gridcs.fit(X_train, y_train)\n",
    "\n",
    "print('Best grid parameters:', gridcs.best_estimator_,'\\n')\n",
    "test_score = gridcs.score(X_test, y_test)\n",
    "print('Training accuracy:', gridcs.score(X_train, y_train))\n",
    "print('Test accuracy    :', test_score)\n"
   ]
  },
  {
   "cell_type": "code",
   "execution_count": 382,
   "metadata": {},
   "outputs": [
    {
     "data": {
      "image/png": "[encoded data removed]",
      "text/plain": [
       "<Figure size 432x288 with 2 Axes>"
      ]
     },
     "metadata": {},
     "output_type": "display_data"
    },
    {
     "name": "stdout",
     "output_type": "stream",
     "text": [
      "\n",
      "               precision    recall  f1-score   support\n",
      "\n",
      "           0       0.00      0.00      0.00       300\n",
      "           1       0.70      1.00      0.82       700\n",
      "\n",
      "    accuracy                           0.70      1000\n",
      "   macro avg       0.35      0.50      0.41      1000\n",
      "weighted avg       0.49      0.70      0.58      1000\n",
      "\n"
     ]
    }
   ],
   "source": [
    "def draw_cm(actual, predicted):\n",
    "    cm = confusion_matrix(actual, predicted, [1,0])\n",
    "    sns.heatmap(cm, annot=True,  fmt='.0f', xticklabels = [\"train:1\", \"Not train:0\"] , \n",
    "                yticklabels = [\"train:1\", \"Not train:0\"] )\n",
    "    plt.ylabel('ACTUAL')\n",
    "    plt.xlabel('PREDICTED')\n",
    "    plt.show()\n",
    "draw_cm( y_test, gridcs.predict(X_test) )\n",
    "print('\\n',classification_report(y_test, gridcs.predict(X_test)))"
   ]
  },
  {
   "cell_type": "code",
   "execution_count": 383,
   "metadata": {},
   "outputs": [
    {
     "data": {
      "image/png": "[encoded data removed]",
      "text/plain": [
       "<Figure size 432x432 with 1 Axes>"
      ]
     },
     "metadata": {},
     "output_type": "display_data"
    }
   ],
   "source": [
    "cm = confusion_matrix(y_test, gridcs.predict(X_test))\n",
    "fpr, tpr, _ = roc_curve(y_test, gridcs.predict_proba(X_test)[:,1])\n",
    "roc_auc = auc(fpr, tpr)\n",
    "plt.figure(figsize=(6,6))\n",
    "plt.plot(fpr, tpr, label='LR (ROC-AUC = %0.2f)' % roc_auc)\n",
    "plt.plot([0, 1], [0, 1], 'k--')\n",
    "tn, fp, fn, tp = [i for i in cm.ravel()]\n",
    "plt.plot(fp/(fp+tn), tp/(tp+fn), 'ro', markersize=8, label='Decision Point')\n",
    "plt.xlim([0.0, 1.0])\n",
    "plt.ylim([0.0, 1.05])\n",
    "plt.xlabel('False Positive Rate')\n",
    "plt.ylabel('True Positive Rate')\n",
    "plt.title('ROC Curve (TPR vs FPR at each probability threshold)')\n",
    "plt.legend(loc=\"lower right\")\n",
    "plt.show()"
   ]
  },
  {
   "cell_type": "markdown",
   "metadata": {},
   "source": [
    "# Q3. Mixed data for Naive Bayes (40 pts)\n",
    "\n",
    "Given the following attributes:"
   ]
  },
  {
   "cell_type": "code",
   "execution_count": 390,
   "metadata": {},
   "outputs": [],
   "source": [
    "import numpy as np\n",
    "import pandas as pd\n",
    "df = pd.DataFrame({\n",
    "    'temperature':[98,87,90,86,88,79,85,89,80,90,86,83,70,68,64,69,75,75,72,81,73,68,75,76,79,77],\n",
    "    'humidity'   :[85,79,91,83,87,80,86,85,87,90,83,76,88,80,65,70,80,70,90,75,74,67,73,74,77,78],\n",
    "    'playtennis' :['no','no','no','no','no','no','no','no','no','no','no','yes','yes','yes','yes',\n",
    "                   'yes','yes','yes','yes','yes','yes','yes','yes','yes','yes','yes']},\n",
    "    columns=['temperature', 'humidity', 'playtennis'])"
   ]
  },
  {
   "cell_type": "markdown",
   "metadata": {},
   "source": [
    "The target is whether we'll play tennis given the values of temperature and humidity. The objective here is come up with a model to predict whether we shall play if **temperature=79** and **humidity=81**.\n",
    "\n",
    "**1.** Build a Logistic Regression and a Naive Bayes model to compare the predicitons for the temperature and humidity value given above. Given the small size of our training data, you should use an **appropriate Cross-validation technique** to select a Logistic Regression model.\n",
    "\n",
    "**2.** Transform the temperature feature (which is a continuous attribute) into a categorical one. Use the following table for this purpose:<br>\n",
    "\n",
    "|Range|Value|\n",
    "|----|-----|\n",
    "|temp $\\lt$ 75| Low|\n",
    "|75 $\\lt$ temp $\\le$ 85| Medium|\n",
    "|temp $\\gt$ 85| High|\n",
    "\n",
    "Now you have mixed data. Build a Naive Bayes model that can handle both features and make a prediction for (temperature=medium, humidity=81) where medium is selected for temperature =79.\n",
    "\n",
    "One way of handling mixed data is to independently fit a GaussianNB model on the continuous part of the data and a CategoricalNB (see below for reference) model on the categorical part. \n",
    "\n",
    "Once you fit each model using relevant attributes, you can compute the class probabilities (for both yes and no) for both of these models by using the `predict_proba` method. These probabilities are 2D arrays for \"**no/0**\" and \"**yes/1**\" classes. By taking either one of these class assignment probabilities (say probability values for 1) for both models, you can use these as new features for continuous and categorical atributes. You can put these together by using either `numpy.c_` or `numpy.hstack` modules. Now you have continuous attributes for your data.  \n",
    "\n",
    "Finally, you can refit a new GaussianNB model on these new features (along with the target) and make your predictions. The input for this new model will be the probabilities for \"temperature=medium\" and \"humidity=81\" which will be the predictions of the separate models built in the previous step.\n",
    "\n",
    "Reference for Categorical NB: https://scikit-learn.org/stable/modules/generated/sklearn.naive_bayes.CategoricalNB.html"
   ]
  },
  {
   "cell_type": "code",
   "execution_count": 391,
   "metadata": {},
   "outputs": [],
   "source": [
    "df['playtennis'] = df['playtennis'].map({'no' : 0, 'yes' : 1})"
   ]
  },
  {
   "cell_type": "code",
   "execution_count": 392,
   "metadata": {},
   "outputs": [
    {
     "data": {
      "text/html": [
       "<div>\n",
       "<style scoped>\n",
       "    .dataframe tbody tr th:only-of-type {\n",
       "        vertical-align: middle;\n",
       "    }\n",
       "\n",
       "    .dataframe tbody tr th {\n",
       "        vertical-align: top;\n",
       "    }\n",
       "\n",
       "    .dataframe thead th {\n",
       "        text-align: right;\n",
       "    }\n",
       "</style>\n",
       "<table border=\"1\" class=\"dataframe\">\n",
       "  <thead>\n",
       "    <tr style=\"text-align: right;\">\n",
       "      <th></th>\n",
       "      <th>temperature</th>\n",
       "      <th>humidity</th>\n",
       "      <th>playtennis</th>\n",
       "    </tr>\n",
       "  </thead>\n",
       "  <tbody>\n",
       "    <tr>\n",
       "      <td>0</td>\n",
       "      <td>98</td>\n",
       "      <td>85</td>\n",
       "      <td>0</td>\n",
       "    </tr>\n",
       "    <tr>\n",
       "      <td>1</td>\n",
       "      <td>87</td>\n",
       "      <td>79</td>\n",
       "      <td>0</td>\n",
       "    </tr>\n",
       "    <tr>\n",
       "      <td>2</td>\n",
       "      <td>90</td>\n",
       "      <td>91</td>\n",
       "      <td>0</td>\n",
       "    </tr>\n",
       "    <tr>\n",
       "      <td>3</td>\n",
       "      <td>86</td>\n",
       "      <td>83</td>\n",
       "      <td>0</td>\n",
       "    </tr>\n",
       "    <tr>\n",
       "      <td>4</td>\n",
       "      <td>88</td>\n",
       "      <td>87</td>\n",
       "      <td>0</td>\n",
       "    </tr>\n",
       "  </tbody>\n",
       "</table>\n",
       "</div>"
      ],
      "text/plain": [
       "   temperature  humidity  playtennis\n",
       "0           98        85           0\n",
       "1           87        79           0\n",
       "2           90        91           0\n",
       "3           86        83           0\n",
       "4           88        87           0"
      ]
     },
     "execution_count": 392,
     "metadata": {},
     "output_type": "execute_result"
    }
   ],
   "source": [
    "df.head()"
   ]
  },
  {
   "cell_type": "code",
   "execution_count": 393,
   "metadata": {},
   "outputs": [
    {
     "name": "stdout",
     "output_type": "stream",
     "text": [
      "<class 'pandas.core.frame.DataFrame'>\n",
      "RangeIndex: 26 entries, 0 to 25\n",
      "Data columns (total 3 columns):\n",
      "temperature    26 non-null int64\n",
      "humidity       26 non-null int64\n",
      "playtennis     26 non-null int64\n",
      "dtypes: int64(3)\n",
      "memory usage: 752.0 bytes\n"
     ]
    }
   ],
   "source": [
    "df.info()"
   ]
  },
  {
   "cell_type": "code",
   "execution_count": 394,
   "metadata": {},
   "outputs": [
    {
     "data": {
      "image/png": "[encoded data removed]",
      "text/plain": [
       "<Figure size 432x288 with 1 Axes>"
      ]
     },
     "metadata": {},
     "output_type": "display_data"
    }
   ],
   "source": [
    "sns.countplot(df['playtennis'],label=\"Count\");"
   ]
  },
  {
   "cell_type": "code",
   "execution_count": 395,
   "metadata": {},
   "outputs": [],
   "source": [
    "y = df.playtennis\n",
    "columns_used = ['temperature', 'humidity']\n",
    "X = df[columns_used]\n",
    "X_train, X_test, y_train, y_test = train_test_split(X, y, test_size=0.25, random_state=seed)"
   ]
  },
  {
   "cell_type": "code",
   "execution_count": 396,
   "metadata": {},
   "outputs": [
    {
     "name": "stdout",
     "output_type": "stream",
     "text": [
      "Fitting 19 folds for each of 266 candidates, totalling 5054 fits\n"
     ]
    },
    {
     "name": "stderr",
     "output_type": "stream",
     "text": [
      "[Parallel(n_jobs=-1)]: Using backend LokyBackend with 4 concurrent workers.\n",
      "[Parallel(n_jobs=-1)]: Done  42 tasks      | elapsed:   20.3s\n",
      "[Parallel(n_jobs=-1)]: Done 1499 tasks      | elapsed:   26.7s\n"
     ]
    },
    {
     "name": "stdout",
     "output_type": "stream",
     "text": [
      "Best grid parameters: Pipeline(memory=None,\n",
      "         steps=[('scaler',\n",
      "                 StandardScaler(copy=True, with_mean=True, with_std=True)),\n",
      "                ('clf',\n",
      "                 LogisticRegression(C=0.15000000000000002, class_weight=None,\n",
      "                                    dual=False, fit_intercept=True,\n",
      "                                    intercept_scaling=1, l1_ratio=None,\n",
      "                                    max_iter=100, multi_class='auto',\n",
      "                                    n_jobs=None, penalty='l1', random_state=42,\n",
      "                                    solver='liblinear', tol=0.0001, verbose=0,\n",
      "                                    warm_start=False))],\n",
      "         verbose=False) \n",
      "\n",
      "Training accuracy: 0.9473684210526315\n",
      "Test accuracy    : 0.7142857142857143\n"
     ]
    },
    {
     "name": "stderr",
     "output_type": "stream",
     "text": [
      "[Parallel(n_jobs=-1)]: Done 5054 out of 5054 | elapsed:   41.2s finished\n"
     ]
    }
   ],
   "source": [
    "#size of data is very small therefore I used leave one out cross validation.\n",
    "#First of all, I used logistic regression model and tune hyperparamter\n",
    "\n",
    "pipe = Pipeline([('scaler',  StandardScaler()),\n",
    "                 ('clf',     LogisticRegression(random_state=seed))])\n",
    "\n",
    "params = [{'clf__C'           : np.arange(0.1, 2.0, 0.05), \n",
    "           'clf__penalty'     : ['l1'], \n",
    "           'clf__solver'      : ['liblinear', 'saga']},\n",
    "          \n",
    "          {'clf__C'           : np.arange(0.1, 2.0, 0.05), \n",
    "           'clf__penalty'     : ['l2'], \n",
    "           'clf__solver'      : ['liblinear', 'newton-cg', 'lbfgs', 'sag', 'saga']}]\n",
    "\n",
    "loocv = model_selection.LeaveOneOut()\n",
    "grid = GridSearchCV(pipe, param_grid=params, cv=loocv, n_jobs=-1 , verbose=1)\n",
    "\n",
    "grid.fit(X_train, y_train)\n",
    "\n",
    "print('Best grid parameters:', grid.best_estimator_,'\\n')\n",
    "test_score = grid.score(X_test, y_test)\n",
    "print('Training accuracy:', grid.score(X_train, y_train))\n",
    "print('Test accuracy    :', test_score)"
   ]
  },
  {
   "cell_type": "code",
   "execution_count": 397,
   "metadata": {},
   "outputs": [
    {
     "name": "stdout",
     "output_type": "stream",
     "text": [
      "Fitting 19 folds for each of 100 candidates, totalling 1900 fits\n"
     ]
    },
    {
     "name": "stderr",
     "output_type": "stream",
     "text": [
      "[Parallel(n_jobs=-1)]: Using backend LokyBackend with 4 concurrent workers.\n",
      "[Parallel(n_jobs=-1)]: Done 500 tasks      | elapsed:    2.8s\n"
     ]
    },
    {
     "name": "stdout",
     "output_type": "stream",
     "text": [
      "Best grid parameters: {'clf__var_smoothing': 1.0} \n",
      "\n",
      "Classifier used     : Pipeline(memory=None,\n",
      "         steps=[('transformer',\n",
      "                 PowerTransformer(copy=True, method='yeo-johnson',\n",
      "                                  standardize=True)),\n",
      "                ('clf', GaussianNB(priors=None, var_smoothing=1.0))],\n",
      "         verbose=False) \n",
      "\n",
      "Grid accuracy on test data: 0.8571428571428571\n",
      "Training accuracy: 0.9473684210526315\n"
     ]
    },
    {
     "name": "stderr",
     "output_type": "stream",
     "text": [
      "[Parallel(n_jobs=-1)]: Done 1900 out of 1900 | elapsed:    8.8s finished\n"
     ]
    }
   ],
   "source": [
    "#Secondly I used Gaussian Naive Bayes model because all features are continuous. \n",
    "\n",
    "from sklearn.naive_bayes import GaussianNB\n",
    "from sklearn.preprocessing import PowerTransformer\n",
    "\n",
    "pipeline = Pipeline([('transformer', PowerTransformer()),\n",
    "                     ('clf', GaussianNB()) ])\n",
    "\n",
    "params = [{'clf__var_smoothing': np.logspace(0,-9, num=100)}]\n",
    "\n",
    "loocv = model_selection.LeaveOneOut()\n",
    "grid = GridSearchCV(estimator = pipeline, param_grid = params, cv = loocv,n_jobs=-1 , verbose=1)\n",
    "\n",
    "grid.fit(X_train, y_train)\n",
    "print('Best grid parameters:', grid.best_params_, '\\n')\n",
    "print('Classifier used     :',grid.best_estimator_,'\\n')\n",
    "print('Grid accuracy on test data:', grid.score(X_test, y_test))\n",
    "print('Training accuracy:', grid.score(X_train, y_train))"
   ]
  },
  {
   "cell_type": "code",
   "execution_count": 398,
   "metadata": {},
   "outputs": [],
   "source": [
    "#Gaussion Naive Bayes has better accuracy than logistic regression because of small size train data "
   ]
  },
  {
   "cell_type": "code",
   "execution_count": 399,
   "metadata": {},
   "outputs": [
    {
     "data": {
      "text/plain": [
       "array([[0.47644818, 0.52355182]])"
      ]
     },
     "execution_count": 399,
     "metadata": {},
     "output_type": "execute_result"
    }
   ],
   "source": [
    "grid.predict_proba([[79, 81]])  #When temperature is 79 and  humidity is 81, model predict play tennis"
   ]
  },
  {
   "cell_type": "code",
   "execution_count": 400,
   "metadata": {},
   "outputs": [],
   "source": [
    "from sklearn.naive_bayes import GaussianNB \n",
    "from sklearn.naive_bayes import CategoricalNB\n",
    "from sklearn.preprocessing import OrdinalEncoder"
   ]
  },
  {
   "cell_type": "markdown",
   "metadata": {},
   "source": [
    "***3.2 Transform the temperature feature*** "
   ]
  },
  {
   "cell_type": "code",
   "execution_count": 401,
   "metadata": {},
   "outputs": [],
   "source": [
    "dfnew = df.copy()\n",
    "for i in range(dfnew.shape[0]):\n",
    "    if dfnew.temperature[i]< 75:\n",
    "        dfnew.temperature[i]='Low'\n",
    "    elif dfnew.temperature[i]>= 75 and dfnew.temperature[i]<= 85:\n",
    "        dfnew.temperature[i]='Medium'\n",
    "    elif dfnew.temperature[i]> 85:\n",
    "        dfnew.temperature[i]='High'"
   ]
  },
  {
   "cell_type": "code",
   "execution_count": 402,
   "metadata": {},
   "outputs": [
    {
     "data": {
      "text/html": [
       "<div>\n",
       "<style scoped>\n",
       "    .dataframe tbody tr th:only-of-type {\n",
       "        vertical-align: middle;\n",
       "    }\n",
       "\n",
       "    .dataframe tbody tr th {\n",
       "        vertical-align: top;\n",
       "    }\n",
       "\n",
       "    .dataframe thead th {\n",
       "        text-align: right;\n",
       "    }\n",
       "</style>\n",
       "<table border=\"1\" class=\"dataframe\">\n",
       "  <thead>\n",
       "    <tr style=\"text-align: right;\">\n",
       "      <th></th>\n",
       "      <th>temperature</th>\n",
       "      <th>humidity</th>\n",
       "      <th>playtennis</th>\n",
       "    </tr>\n",
       "  </thead>\n",
       "  <tbody>\n",
       "    <tr>\n",
       "      <td>0</td>\n",
       "      <td>High</td>\n",
       "      <td>85</td>\n",
       "      <td>0</td>\n",
       "    </tr>\n",
       "    <tr>\n",
       "      <td>1</td>\n",
       "      <td>High</td>\n",
       "      <td>79</td>\n",
       "      <td>0</td>\n",
       "    </tr>\n",
       "    <tr>\n",
       "      <td>2</td>\n",
       "      <td>High</td>\n",
       "      <td>91</td>\n",
       "      <td>0</td>\n",
       "    </tr>\n",
       "    <tr>\n",
       "      <td>3</td>\n",
       "      <td>High</td>\n",
       "      <td>83</td>\n",
       "      <td>0</td>\n",
       "    </tr>\n",
       "    <tr>\n",
       "      <td>4</td>\n",
       "      <td>High</td>\n",
       "      <td>87</td>\n",
       "      <td>0</td>\n",
       "    </tr>\n",
       "  </tbody>\n",
       "</table>\n",
       "</div>"
      ],
      "text/plain": [
       "  temperature  humidity  playtennis\n",
       "0        High        85           0\n",
       "1        High        79           0\n",
       "2        High        91           0\n",
       "3        High        83           0\n",
       "4        High        87           0"
      ]
     },
     "execution_count": 402,
     "metadata": {},
     "output_type": "execute_result"
    }
   ],
   "source": [
    "dfnew.head()"
   ]
  },
  {
   "cell_type": "markdown",
   "metadata": {},
   "source": [
    "Now, new dataframe has not only continuous but also categoric features.So, I have to separate these features to fit model.\n",
    "I used gaussian naive bayes for numeric feature which is humidity , categorical naive bayes for categoric feature which is temperature\n"
   ]
  },
  {
   "cell_type": "code",
   "execution_count": 403,
   "metadata": {},
   "outputs": [],
   "source": [
    "humid=dfnew[['humidity']] \n",
    "temp=dfnew[['temperature']]  \n",
    "y=dfnew['playtennis'].values\n",
    "#temperature has ordinal values so I used ordinal encoder before fit the model\n",
    "ord_encod = OrdinalEncoder()\n",
    "temp = enc.fit_transform(temp) #by this way, temp has 0,1,2 values"
   ]
  },
  {
   "cell_type": "code",
   "execution_count": 404,
   "metadata": {},
   "outputs": [],
   "source": [
    "#I created a new feature which combine with numeric and categoric features ( humidity and temperature) before train test split\n",
    "X=np.c_[humid, temp] # X is 2D array \n",
    "X_train, X_test, y_train, y_test = train_test_split(X, y, test_size=0.2, random_state=seed)"
   ]
  },
  {
   "cell_type": "markdown",
   "metadata": {},
   "source": [
    "***1.Model For Continuous Features***"
   ]
  },
  {
   "cell_type": "code",
   "execution_count": 405,
   "metadata": {},
   "outputs": [
    {
     "data": {
      "text/plain": [
       "GaussianNB(priors=None, var_smoothing=1e-09)"
      ]
     },
     "execution_count": 405,
     "metadata": {},
     "output_type": "execute_result"
    }
   ],
   "source": [
    "Gaus_NB = GaussianNB()\n",
    "Gaus_NB.fit(X_train[:,0:1], y_train) "
   ]
  },
  {
   "cell_type": "markdown",
   "metadata": {},
   "source": [
    "***2.Model For Categoric Features***"
   ]
  },
  {
   "cell_type": "code",
   "execution_count": 406,
   "metadata": {},
   "outputs": [
    {
     "data": {
      "text/plain": [
       "CategoricalNB(alpha=1.0, class_prior=None, fit_prior=True)"
      ]
     },
     "execution_count": 406,
     "metadata": {},
     "output_type": "execute_result"
    }
   ],
   "source": [
    "CatGaus_NB = CategoricalNB()\n",
    "CatGaus_NB.fit(X_train[:,1:2], y_train)"
   ]
  },
  {
   "cell_type": "markdown",
   "metadata": {},
   "source": [
    "Probabilities for train and test "
   ]
  },
  {
   "cell_type": "code",
   "execution_count": 407,
   "metadata": {},
   "outputs": [],
   "source": [
    "#I fit each model using relevant attributes, I can compute the class probabilities \n",
    "# These probabilities are 2D arrays for \"no/0\" and \"yes/1\" classes.\n",
    "Gaus_train_prob = Gaus_NB.predict_proba(X_train[:,0:1])\n",
    "Cat_train_prob = CatGaus_NB.predict_proba(X_train[:,1:2])\n",
    "Gaus_test_prob = Gaus_NB.predict_proba(X_test[:,0:1])\n",
    "Cat_test_prob = CatGaus_NB.predict_proba(X_test[:,1:2])"
   ]
  },
  {
   "cell_type": "code",
   "execution_count": 408,
   "metadata": {},
   "outputs": [
    {
     "name": "stdout",
     "output_type": "stream",
     "text": [
      "Model Accuracy:  1.0\n"
     ]
    }
   ],
   "source": [
    "# I again split data and choose class 1 ( play tennis)\n",
    "X2_train = np.c_[(Gaus_train_prob[:,1], Cat_train_prob[:,1])] \n",
    "X2_test = np.c_[(Gaus_test_prob[:,1], Cat_test_prob[:,1])] \n",
    "mixed_model=GaussianNB()\n",
    "mixed_model.fit(X2_train, y_train)\n",
    "predict = mixed_model.predict(X2_test)\n",
    "print('Model Accuracy: ', model.score(X2_test, y_test))"
   ]
  },
  {
   "cell_type": "code",
   "execution_count": 409,
   "metadata": {},
   "outputs": [
    {
     "data": {
      "image/png": "[encoded data removed]",
      "text/plain": [
       "<Figure size 432x288 with 2 Axes>"
      ]
     },
     "metadata": {},
     "output_type": "display_data"
    },
    {
     "name": "stdout",
     "output_type": "stream",
     "text": [
      "\n",
      "               precision    recall  f1-score   support\n",
      "\n",
      "           0       1.00      1.00      1.00         3\n",
      "           1       1.00      1.00      1.00         3\n",
      "\n",
      "    accuracy                           1.00         6\n",
      "   macro avg       1.00      1.00      1.00         6\n",
      "weighted avg       1.00      1.00      1.00         6\n",
      "\n"
     ]
    }
   ],
   "source": [
    "def draw_cm(actual, predicted):\n",
    "    cm = confusion_matrix(actual, predicted, [1,0])\n",
    "    sns.heatmap(cm, annot=True,  fmt='.0f', xticklabels = [\"Yes:1\", \"No:0\"] , \n",
    "                yticklabels = [\"Yes:1\", \"No:0\"] )\n",
    "    plt.ylabel('ACTUAL')\n",
    "    plt.xlabel('PREDICTED')\n",
    "    plt.show()\n",
    "draw_cm( y_test, mixed_model.predict(X2_test) )\n",
    "print('\\n',classification_report(y_test, mixed_model.predict(X2_test)))"
   ]
  },
  {
   "cell_type": "code",
   "execution_count": 410,
   "metadata": {},
   "outputs": [
    {
     "data": {
      "text/plain": [
       "array([[0., 1.]])"
      ]
     },
     "execution_count": 410,
     "metadata": {},
     "output_type": "execute_result"
    }
   ],
   "source": [
    "#the probabilities for \"temperature=medium\" and \"humidity=81\" \n",
    "mixed_model.predict_proba([[81, 1]])"
   ]
  },
  {
   "cell_type": "code",
   "execution_count": 411,
   "metadata": {},
   "outputs": [
    {
     "data": {
      "text/plain": [
       "array([0, 1], dtype=int64)"
      ]
     },
     "execution_count": 411,
     "metadata": {},
     "output_type": "execute_result"
    }
   ],
   "source": [
    "mixed_model.classes_  #when temperature is medium and humidity is 81, prediction is play tennis"
   ]
  },
  {
   "cell_type": "code",
   "execution_count": null,
   "metadata": {},
   "outputs": [],
   "source": []
  }
 ],
 "metadata": {
  "kernelspec": {
   "display_name": "Python 3",
   "language": "python",
   "name": "python3"
  },
  "language_info": {
   "codemirror_mode": {
    "name": "ipython",
    "version": 3
   },
   "file_extension": ".py",
   "mimetype": "text/x-python",
   "name": "python",
   "nbconvert_exporter": "python",
   "pygments_lexer": "ipython3",
   "version": "3.7.4"
  }
 },
 "nbformat": 4,
 "nbformat_minor": 2
}
